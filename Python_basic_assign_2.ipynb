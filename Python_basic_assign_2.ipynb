{
 "cells": [
  {
   "cell_type": "code",
   "execution_count": null,
   "id": "34b96673",
   "metadata": {},
   "outputs": [],
   "source": [
    "#1. Write a Python program to convert kilometers to miles?"
   ]
  },
  {
   "cell_type": "code",
   "execution_count": null,
   "id": "bb57d0a7",
   "metadata": {},
   "outputs": [],
   "source": [
    "distance = int(input('enter the distance in km: '))\n",
    "dis_in_mile = distance * 0.621371\n",
    "print(dis_in_mile)"
   ]
  },
  {
   "cell_type": "code",
   "execution_count": null,
   "id": "a2aa7d0f",
   "metadata": {},
   "outputs": [],
   "source": [
    "#2. Write a Python program to convert Celsius to Fahrenheit?"
   ]
  },
  {
   "cell_type": "code",
   "execution_count": 5,
   "id": "c9cc0ce1",
   "metadata": {},
   "outputs": [
    {
     "name": "stdout",
     "output_type": "stream",
     "text": [
      "enter the temp in cel: 0\n",
      "32.0\n"
     ]
    }
   ],
   "source": [
    "temp_in_cel = int(input('enter the temp in cel: '))\n",
    "temp_in_far = (temp_in_cel * (9/5) + 32)\n",
    "print(temp_in_far)\n"
   ]
  },
  {
   "cell_type": "code",
   "execution_count": null,
   "id": "3e983212",
   "metadata": {},
   "outputs": [],
   "source": [
    "#3. Write a Python program to display calendar?"
   ]
  },
  {
   "cell_type": "code",
   "execution_count": null,
   "id": "a2db8042",
   "metadata": {},
   "outputs": [],
   "source": [
    "\n",
    "import calendar\n",
    "\n",
    "yy = int(input(\"Enter year: \"))\n",
    "mm = int(input(\"Enter month: \"))\n",
    "\n",
    "print(calendar.month(yy, mm))"
   ]
  },
  {
   "cell_type": "code",
   "execution_count": null,
   "id": "433e602f",
   "metadata": {},
   "outputs": [],
   "source": [
    "#4. Write a Python program to solve quadratic equation?"
   ]
  },
  {
   "cell_type": "code",
   "execution_count": null,
   "id": "fd91d8c8",
   "metadata": {},
   "outputs": [],
   "source": [
    "\n",
    "a = int(input('enter the value of a: '))\n",
    "b = int(input('enter the value of b: '))\n",
    "c = int(input('enter the value of c: '))\n",
    "\n",
    "d = (b**2 - (4*a*c))\n",
    "\n",
    "sol1 = (-b + (d**(1/2))/(2*a)\n",
    "sol2 = (-b - (d**(1/2))/(2*a)\n",
    "\n",
    "print(sol1, sol2)"
   ]
  },
  {
   "cell_type": "code",
   "execution_count": null,
   "id": "2943a49d",
   "metadata": {},
   "outputs": [],
   "source": [
    "#5. Write a Python program to swap two variables without temp variable?"
   ]
  },
  {
   "cell_type": "code",
   "execution_count": null,
   "id": "68a987ad",
   "metadata": {},
   "outputs": [],
   "source": [
    "a = int(input(\"please give first number a: \"))\n",
    "b = int(input(\"please give second number b: \"))\n",
    "a=a-b\n",
    "b=a+b\n",
    "a=b-a\n",
    "print(\"After swapping\")\n",
    "print(\"value of a is : \", a);\n",
    "print(\"value of b is : \", b); "
   ]
  }
 ],
 "metadata": {
  "kernelspec": {
   "display_name": "Python 3",
   "language": "python",
   "name": "python3"
  },
  "language_info": {
   "codemirror_mode": {
    "name": "ipython",
    "version": 3
   },
   "file_extension": ".py",
   "mimetype": "text/x-python",
   "name": "python",
   "nbconvert_exporter": "python",
   "pygments_lexer": "ipython3",
   "version": "3.8.8"
  }
 },
 "nbformat": 4,
 "nbformat_minor": 5
}
