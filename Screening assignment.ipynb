{
 "cells": [
  {
   "cell_type": "markdown",
   "id": "e0efcbb8",
   "metadata": {},
   "source": [
    "## Assignment 1"
   ]
  },
  {
   "cell_type": "code",
   "execution_count": null,
   "id": "5c961f70",
   "metadata": {},
   "outputs": [],
   "source": [
    "file = open('example.txt','w')\n",
    "# creation of file in write mode\n",
    "file.write('This is a placement assignment')\n",
    "file.close()\n",
    "\n",
    "file = open('example.txt','r')\n",
    "#opening the file in read mode\n",
    "k = file.read()\n",
    "data = k.replace('placement', 'Screening')\n",
    "#string replaced and stored in data\n",
    "file.close()\n",
    "\n",
    "file = open('example.txt', \"wt\")\n",
    "#overwrite the input file\n",
    "file.write(data)\n",
    "file.close()"
   ]
  },
  {
   "cell_type": "markdown",
   "id": "815c41a1",
   "metadata": {},
   "source": [
    "## Assignment 2"
   ]
  },
  {
   "cell_type": "markdown",
   "id": "fa89032b",
   "metadata": {},
   "source": [
    "Abstract classes - abstract classes are the classes having abstract methods. Abstract methods are the methods that contains\n",
    "only declaration and no definitions"
   ]
  },
  {
   "cell_type": "code",
   "execution_count": 47,
   "id": "16a82acd",
   "metadata": {},
   "outputs": [],
   "source": [
    "from abc import ABC, abstractmethod"
   ]
  },
  {
   "cell_type": "code",
   "execution_count": 52,
   "id": "feaea51d",
   "metadata": {},
   "outputs": [
    {
     "name": "stdout",
     "output_type": "stream",
     "text": [
      "bench press\n",
      "Squats\n",
      "lat pull over\n",
      "running\n"
     ]
    }
   ],
   "source": [
    "class gym(ABC):\n",
    "#abstract classes and method\n",
    "    @abstractmethod\n",
    "    def workout(self):\n",
    "        pass\n",
    "\n",
    "class machine1(gym):\n",
    "#method overiding of the abstract method\n",
    "    def workout(self):\n",
    "        print('bench press')\n",
    "        \n",
    "class machine2(gym):\n",
    "#method overiding of the abstract method\n",
    "    def workout(self):\n",
    "        print('Squats')\n",
    "        \n",
    "class machine3(gym):\n",
    "#method overiding of the abstract method\n",
    "    def workout(self):\n",
    "        print('lat pull over')\n",
    "\n",
    "#instantising objects of the classes     \n",
    "obj1 = machine1()\n",
    "obj2 = machine2()\n",
    "obj3 = machine3()\n",
    "\n",
    "obj1.workout()\n",
    "obj2.workout()\n",
    "obj3.workout()"
   ]
  },
  {
   "cell_type": "markdown",
   "id": "21b8a3c2",
   "metadata": {},
   "source": [
    "Multiple inheritance - Heirachical level of inheritence through various level, where the object of the inherited child class\n",
    "has the access to the variable and methods of the rest of the classes"
   ]
  },
  {
   "cell_type": "code",
   "execution_count": 60,
   "id": "0961346a",
   "metadata": {},
   "outputs": [
    {
     "name": "stdout",
     "output_type": "stream",
     "text": [
      "access only to tech office\n",
      "access till admin office\n",
      "access till server room\n",
      "access till admin office\n",
      "access only to tech office\n"
     ]
    }
   ],
   "source": [
    "class engineer():\n",
    "    def accessLevel1(self):\n",
    "        print('access only to tech office')\n",
    "        \n",
    "class manager():\n",
    "    def accessLevel2(self):\n",
    "         print('access till admin office')\n",
    "\n",
    "class Ceo(manager,engineer):\n",
    "    def accessLevel3(self):\n",
    "         print('access till server room')\n",
    "\n",
    "person1 = Ceo()\n",
    "person2 = manager()\n",
    "person3 = engineer()\n",
    "\n",
    "person1.accessLevel1()\n",
    "person1.accessLevel2()\n",
    "person1.accessLevel3()\n",
    "\n",
    "person2.accessLevel2()\n",
    "person3.accessLevel1()"
   ]
  },
  {
   "cell_type": "markdown",
   "id": "01be2f7f",
   "metadata": {},
   "source": [
    "Decorator - Decorators are the functions inside the function and also the function has to be passed in the parent function "
   ]
  },
  {
   "cell_type": "code",
   "execution_count": 68,
   "id": "01c8aeaf",
   "metadata": {},
   "outputs": [
    {
     "name": "stdout",
     "output_type": "stream",
     "text": [
      "assigment1 completed\n",
      "initial screening cleared\n"
     ]
    }
   ],
   "source": [
    "def screening(fuc):\n",
    "    def assignment():\n",
    "        print('assigment1 completed')\n",
    "        fuc()\n",
    "    return assignment()\n",
    "\n",
    "@screening\n",
    "def test():\n",
    "    print('initial screening cleared')\n"
   ]
  },
  {
   "cell_type": "code",
   "execution_count": 86,
   "id": "a2b30edb",
   "metadata": {},
   "outputs": [
    {
     "data": {
      "text/plain": [
       "1"
      ]
     },
     "execution_count": 86,
     "metadata": {},
     "output_type": "execute_result"
    }
   ],
   "source": [
    "def sub(a,b):\n",
    "    return a-b\n",
    "\n",
    "def modulus(fuc):\n",
    "    def inner(a,b):\n",
    "        if b>a:\n",
    "            a,b = b,a\n",
    "        return fuc(a,b)\n",
    "    return inner\n",
    "\n",
    "sub = modulus(sub)\n",
    "sub(4,5)\n",
    "\n",
    "\n"
   ]
  },
  {
   "cell_type": "code",
   "execution_count": null,
   "id": "7c09f0cd",
   "metadata": {},
   "outputs": [],
   "source": []
  }
 ],
 "metadata": {
  "kernelspec": {
   "display_name": "Python 3",
   "language": "python",
   "name": "python3"
  },
  "language_info": {
   "codemirror_mode": {
    "name": "ipython",
    "version": 3
   },
   "file_extension": ".py",
   "mimetype": "text/x-python",
   "name": "python",
   "nbconvert_exporter": "python",
   "pygments_lexer": "ipython3",
   "version": "3.8.8"
  }
 },
 "nbformat": 4,
 "nbformat_minor": 5
}
