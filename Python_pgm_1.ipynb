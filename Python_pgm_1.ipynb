{
 "cells": [
  {
   "cell_type": "code",
   "execution_count": 1,
   "id": "334a07d9",
   "metadata": {},
   "outputs": [],
   "source": [
    "#1.\tWrite a Python program to print \"Hello Python\"?"
   ]
  },
  {
   "cell_type": "code",
   "execution_count": 2,
   "id": "38063f08",
   "metadata": {},
   "outputs": [
    {
     "name": "stdout",
     "output_type": "stream",
     "text": [
      "Hello Python\n"
     ]
    }
   ],
   "source": [
    "print('Hello Python')"
   ]
  },
  {
   "cell_type": "code",
   "execution_count": 3,
   "id": "1ee5130f",
   "metadata": {},
   "outputs": [],
   "source": [
    "#2.\tWrite a Python program to do arithmetical operations addition and division.?"
   ]
  },
  {
   "cell_type": "code",
   "execution_count": 17,
   "id": "51f122be",
   "metadata": {},
   "outputs": [
    {
     "name": "stdout",
     "output_type": "stream",
     "text": [
      "enter a value:4\n",
      "enter b value:2\n",
      "the addtion of a,b is 6\n",
      "the division of a,b is 2.0\n"
     ]
    }
   ],
   "source": [
    "a = int(input('enter a value:'))\n",
    "b = int(input('enter b value:'))\n",
    "print('the addtion of a,b is', a+b)\n",
    "print('the division of a,b is', a/b)"
   ]
  },
  {
   "cell_type": "code",
   "execution_count": null,
   "id": "2d51e4d8",
   "metadata": {},
   "outputs": [],
   "source": [
    "#3.rite a Python program to find the area of a triangle?"
   ]
  },
  {
   "cell_type": "code",
   "execution_count": 20,
   "id": "37fde188",
   "metadata": {},
   "outputs": [
    {
     "name": "stdout",
     "output_type": "stream",
     "text": [
      "enter base :5\n",
      "enter height:10\n",
      "the area of triangle  is 1.0\n"
     ]
    }
   ],
   "source": [
    "base = float(input('enter base :'))\n",
    "height = float(input('enter height:'))\n",
    "print('the area of triangle  is', (1/2)*(a/b))"
   ]
  },
  {
   "cell_type": "code",
   "execution_count": null,
   "id": "bf6f1238",
   "metadata": {},
   "outputs": [],
   "source": [
    "#4.\tWrite a Python program to swap two variables?"
   ]
  },
  {
   "cell_type": "code",
   "execution_count": 23,
   "id": "62715986",
   "metadata": {},
   "outputs": [
    {
     "name": "stdout",
     "output_type": "stream",
     "text": [
      "enter a value:99\n",
      "enter b value:101\n",
      "101 99\n"
     ]
    }
   ],
   "source": [
    "a = int(input('enter a value:'))\n",
    "b = int(input('enter b value:'))\n",
    "c = a\n",
    "a = b\n",
    "b = c\n",
    "print(a,b)"
   ]
  },
  {
   "cell_type": "code",
   "execution_count": null,
   "id": "8e254102",
   "metadata": {},
   "outputs": [],
   "source": [
    "#5.\tWrite a Python program to generate a random number?"
   ]
  },
  {
   "cell_type": "code",
   "execution_count": 28,
   "id": "aebcf415",
   "metadata": {},
   "outputs": [
    {
     "name": "stdout",
     "output_type": "stream",
     "text": [
      "60\n"
     ]
    }
   ],
   "source": [
    "import random\n",
    "list1 = range(0,100)\n",
    "print(random.choice(list1))"
   ]
  }
 ],
 "metadata": {
  "kernelspec": {
   "display_name": "Python 3",
   "language": "python",
   "name": "python3"
  },
  "language_info": {
   "codemirror_mode": {
    "name": "ipython",
    "version": 3
   },
   "file_extension": ".py",
   "mimetype": "text/x-python",
   "name": "python",
   "nbconvert_exporter": "python",
   "pygments_lexer": "ipython3",
   "version": "3.8.8"
  }
 },
 "nbformat": 4,
 "nbformat_minor": 5
}
