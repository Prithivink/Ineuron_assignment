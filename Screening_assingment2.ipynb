{
 "cells": [
  {
   "cell_type": "markdown",
   "id": "4df9f952",
   "metadata": {},
   "source": [
    "# DATA BASE CREATION "
   ]
  },
  {
   "cell_type": "code",
   "execution_count": 1,
   "id": "08fee400",
   "metadata": {},
   "outputs": [],
   "source": [
    "#making connection with SQlite through python\n",
    "import sqlite3\n",
    "\n",
    "connection = sqlite3.connect(\"bank_data.db\")\n",
    "cursor = connection.cursor()"
   ]
  },
  {
   "cell_type": "code",
   "execution_count": 2,
   "id": "f3cebc73",
   "metadata": {},
   "outputs": [
    {
     "ename": "OperationalError",
     "evalue": "table USER_TABLE already exists",
     "output_type": "error",
     "traceback": [
      "\u001b[1;31m---------------------------------------------------------------------------\u001b[0m",
      "\u001b[1;31mOperationalError\u001b[0m                          Traceback (most recent call last)",
      "\u001b[1;32m<ipython-input-2-70c6ce5a9d1e>\u001b[0m in \u001b[0;36m<module>\u001b[1;34m\u001b[0m\n\u001b[0;32m      9\u001b[0m \u001b[1;33m\u001b[0m\u001b[0m\n\u001b[0;32m     10\u001b[0m \u001b[1;33m\u001b[0m\u001b[0m\n\u001b[1;32m---> 11\u001b[1;33m \u001b[0mcursor\u001b[0m\u001b[1;33m.\u001b[0m\u001b[0mexecute\u001b[0m\u001b[1;33m(\u001b[0m\u001b[0mcommand1\u001b[0m\u001b[1;33m)\u001b[0m\u001b[1;33m\u001b[0m\u001b[1;33m\u001b[0m\u001b[0m\n\u001b[0m\u001b[0;32m     12\u001b[0m \u001b[0mcursor\u001b[0m\u001b[1;33m.\u001b[0m\u001b[0mexecute\u001b[0m\u001b[1;33m(\u001b[0m\u001b[0mcommand2\u001b[0m\u001b[1;33m)\u001b[0m\u001b[1;33m\u001b[0m\u001b[1;33m\u001b[0m\u001b[0m\n\u001b[0;32m     13\u001b[0m \u001b[0mcursor\u001b[0m\u001b[1;33m.\u001b[0m\u001b[0mexecute\u001b[0m\u001b[1;33m(\u001b[0m\u001b[0mcommand3\u001b[0m\u001b[1;33m)\u001b[0m\u001b[1;33m\u001b[0m\u001b[1;33m\u001b[0m\u001b[0m\n",
      "\u001b[1;31mOperationalError\u001b[0m: table USER_TABLE already exists"
     ]
    }
   ],
   "source": [
    "#creating new tables in SQLite DB\n",
    "command1 = \"\"\"CREATE TABLE USER_TABLE(USER_ID INTERGER,USER_NAME TEXT,USER_DOB INTERGER,\n",
    "USER_EMAIL TEXT,USER_CREATED_DATE INTERGER)\"\"\"\n",
    "\n",
    "command2 = \"\"\"CREATE TABLE Bank_Account_Table  (USER_ID INTERGER, BANK_ACCOUNT_ID INTERGER, \n",
    "BANK_ACCOUNT_NUMBER INTERGER, IS_USER ACTIVE INTERGER, AMOUNT INTERGER)\"\"\"\n",
    "\n",
    "command3 = \"\"\"CREATE TABLE Transaction_Table (TRANSACTION_DATE INTERGER, USER_ID INTERGER,\n",
    "BANK_AC INTERGER_ID, WITHDRAWN_AMOUNT INTERGER)\"\"\"\n",
    "\n",
    "\n",
    "cursor.execute(command1)\n",
    "cursor.execute(command2)\n",
    "cursor.execute(command3)"
   ]
  },
  {
   "cell_type": "code",
   "execution_count": 3,
   "id": "a7438594",
   "metadata": {},
   "outputs": [
    {
     "data": {
      "text/plain": [
       "<sqlite3.Cursor at 0x1ecc8babc00>"
      ]
     },
     "execution_count": 3,
     "metadata": {},
     "output_type": "execute_result"
    }
   ],
   "source": [
    "#inserting values into USER_TABLE\n",
    "cursor.execute(\"INSERT INTO USER_TABLE VALUES(01,'Arun','2000-01-01','arun@gmail.com','2022-06-02')\")\n",
    "cursor.execute(\"INSERT INTO USER_TABLE VALUES(02,'Bala','1999-01-08','bala@gmail.com','2022-02-31')\")\n",
    "cursor.execute(\"INSERT INTO USER_TABLE VALUES(03,'Catherine','2002-01-05','Catherine@gmail.com','2022-05-28')\")"
   ]
  },
  {
   "cell_type": "code",
   "execution_count": 2,
   "id": "b2dca9b9",
   "metadata": {},
   "outputs": [
    {
     "data": {
      "text/plain": [
       "<sqlite3.Cursor at 0x1ecc8babc00>"
      ]
     },
     "execution_count": 2,
     "metadata": {},
     "output_type": "execute_result"
    }
   ],
   "source": [
    "cursor.execute('DELETE FROM USER_TABLE')\n",
    "cursor.execute('DELETE FROM Bank_Account_Table')\n",
    "cursor.execute('DELETE FROM Transaction_Table')"
   ]
  },
  {
   "cell_type": "code",
   "execution_count": 89,
   "id": "969969e3",
   "metadata": {},
   "outputs": [
    {
     "name": "stdout",
     "output_type": "stream",
     "text": [
      "[(1, 'Arun', '2000-01-01', 'arun@gmail.com', '2022-06-02'), (2, 'Bala', '1999-01-08', 'bala@gmail.com', '2022-02-31'), (3, 'Catherine', '2002-01-05', 'Catherine@gmail.com', '2022-05-28')]\n"
     ]
    }
   ],
   "source": [
    "cursor.execute('SELECT * FROM USER_TABLE')\n",
    "results = cursor.fetchall()\n",
    "print(results)"
   ]
  },
  {
   "cell_type": "code",
   "execution_count": 4,
   "id": "f6b95dd5",
   "metadata": {},
   "outputs": [
    {
     "data": {
      "text/plain": [
       "<sqlite3.Cursor at 0x1ecc8babc00>"
      ]
     },
     "execution_count": 4,
     "metadata": {},
     "output_type": "execute_result"
    }
   ],
   "source": [
    "#inserting values into Bank_Account_Table\n",
    "cursor.execute(\"INSERT INTO Bank_Account_Table VALUES(01,1001,123456,1,15000)\")\n",
    "cursor.execute(\"INSERT INTO Bank_Account_Table VALUES(02,1002,123457,1,8500)\")\n",
    "cursor.execute(\"INSERT INTO Bank_Account_Table VALUES(03,1003,123458,0,9000)\")"
   ]
  },
  {
   "cell_type": "code",
   "execution_count": 34,
   "id": "81257047",
   "metadata": {},
   "outputs": [
    {
     "name": "stdout",
     "output_type": "stream",
     "text": [
      "[(1, 1001, 123456, 1, 15000), (2, 1002, 123457, 1, 8500), (3, 1003, 123458, 0, 9000)]\n"
     ]
    }
   ],
   "source": [
    "cursor.execute('SELECT * FROM Bank_Account_Table')\n",
    "results = cursor.fetchall()\n",
    "print(results)"
   ]
  },
  {
   "cell_type": "code",
   "execution_count": 5,
   "id": "9b048017",
   "metadata": {},
   "outputs": [
    {
     "data": {
      "text/plain": [
       "<sqlite3.Cursor at 0x1ecc8babc00>"
      ]
     },
     "execution_count": 5,
     "metadata": {},
     "output_type": "execute_result"
    }
   ],
   "source": [
    "#inserting values into Transaction_Table\n",
    "cursor.execute(\"INSERT INTO Transaction_Table VALUES('2022-04-28',01,123456,1800)\")\n",
    "cursor.execute(\"INSERT INTO Transaction_Table VALUES('2022-05-15',01,123456,200)\")\n",
    "cursor.execute(\"INSERT INTO Transaction_Table VALUES('2022-03-08',02,123457,2500)\")\n",
    "cursor.execute(\"INSERT INTO Transaction_Table VALUES('2022-01-06',03,123458,1500)\")\n",
    "cursor.execute(\"INSERT INTO Transaction_Table VALUES('2022-02-03',03,123458,350)\")"
   ]
  },
  {
   "cell_type": "code",
   "execution_count": 37,
   "id": "97f10477",
   "metadata": {},
   "outputs": [
    {
     "name": "stdout",
     "output_type": "stream",
     "text": [
      "[('2022-04-28', 1, 123456, 1800), ('2022-05-15', 1, 123456, 200), ('2022-03-08', 2, 123457, 2500), ('2022-01-06', 3, 123458, 1500), ('2022-02-03', 3, 123458, 350)]\n"
     ]
    }
   ],
   "source": [
    "cursor.execute('SELECT * FROM Transaction_Table')\n",
    "results = cursor.fetchall()\n",
    "print(results)"
   ]
  },
  {
   "cell_type": "markdown",
   "id": "0bed5a1b",
   "metadata": {},
   "source": [
    "# Class definition"
   ]
  },
  {
   "cell_type": "code",
   "execution_count": 6,
   "id": "b7f2adf0",
   "metadata": {},
   "outputs": [],
   "source": [
    "class bank():\n",
    "    \n",
    "    def __init__(self, userid):  \n",
    "        self.userid = userid \n",
    "    \n",
    "    def check_bal(self):\n",
    "        try:\n",
    "            L = self.userid\n",
    "            select_query = ( \"\"\"SELECT * from Bank_Account_Table  WHERE USER_ID = (?) \"\"\")\n",
    "            cursor.execute(select_query,[L])\n",
    "            results= cursor.fetchall()\n",
    "            print('The remaning balance is', results[0][4])\n",
    "        except Exception as e:\n",
    "            print('USER ID NOT AVAILABLE')\n",
    "                    \n",
    "    def amount_withdrawl(self):\n",
    "        try:\n",
    "            M = self.userid\n",
    "            select_query = (\"SELECT AMOUNT FROM Bank_Account_Table WHERE USER_ID = (?)\")\n",
    "            cursor.execute(select_query,[M])\n",
    "            newresult= cursor.fetchall()\n",
    "            withdrawl = int(input('enter the amount to be withdrawn: '))\n",
    "        \n",
    "            if newresult[0][0] > 5000:\n",
    "                \n",
    "                if withdrawl>newresult[0][0]:\n",
    "                    print('Sorry you dont have sufficient balance')\n",
    "                    \n",
    "                elif withdrawl<newresult[0][0]:\n",
    "                    new_balance = newresult[0][0]-withdrawl\n",
    "                    print('remaining balance is',new_balance)\n",
    "            select_query2 = (\"UPDATE Bank_Account_Table SET AMOUNT = (?) where USER_ID =(?) \")\n",
    "            cursor.execute(select_query2,[new_balance,M])\n",
    "            \n",
    "        except Exception as e:\n",
    "            print('USER ID NOT AVAILABLE')\n",
    "        \n",
    "    def new_record(self):\n",
    "        \n",
    "        idx = self.userid\n",
    "        name = input('Enter your name ')\n",
    "        dob = input('enter your dob ')\n",
    "        mailID = input('enter dour mail id ')\n",
    "        datecr = input('enter todays date ')\n",
    "        command_query = \"\"\"INSERT INTO USER_TABLE VALUES(?,?,?,?,?)\"\"\"\n",
    "        cursor.execute(command_query,[idx,name,dob,mailID,datecr])\n",
    "    \n",
    "    def statement(self):\n",
    "        try:\n",
    "            idy = self.userid\n",
    "            mindate = input('enter the min date in YYYY-MM-DD format: ')\n",
    "            maxdate = input('enter the max date in YYYY-MM-DD format: ')\n",
    "            command_query2 = (\"SELECT * FROM Transaction_Table where (TRANSACTION_DATE >= (?) and TRANSACTION_DATE <= (?)) and USER_ID = (?)\")\n",
    "            cursor.execute(command_query2,[mindate,maxdate,idy])\n",
    "            res= cursor.fetchall()\n",
    "            print(res)\n",
    "            \n",
    "                \n",
    "        except Exception as e:\n",
    "            print('USER ID NOT AVAILABLE')\n",
    "\n",
    "        \n",
    "        "
   ]
  },
  {
   "cell_type": "code",
   "execution_count": 7,
   "id": "d65f0207",
   "metadata": {},
   "outputs": [],
   "source": [
    "#object creation with userIDS\n",
    "userA = bank(1)\n",
    "userB = bank(2)\n",
    "userC = bank(3)\n",
    "userD = bank(4)"
   ]
  },
  {
   "cell_type": "code",
   "execution_count": 8,
   "id": "ea941a90",
   "metadata": {},
   "outputs": [
    {
     "name": "stdout",
     "output_type": "stream",
     "text": [
      "The remaning balance is 15000\n"
     ]
    }
   ],
   "source": [
    "#functioning of obbjects\n",
    "#balance\n",
    "userA.check_bal()\n"
   ]
  },
  {
   "cell_type": "code",
   "execution_count": 9,
   "id": "eebd82a3",
   "metadata": {},
   "outputs": [
    {
     "name": "stdout",
     "output_type": "stream",
     "text": [
      "enter the amount to be withdrawn: 150\n",
      "remaining balance is 8350\n"
     ]
    }
   ],
   "source": [
    "#withdral of amount\n",
    "userB.amount_withdrawl()"
   ]
  },
  {
   "cell_type": "code",
   "execution_count": null,
   "id": "41404868",
   "metadata": {},
   "outputs": [],
   "source": [
    "#ministatement\n",
    "userC.statement()"
   ]
  },
  {
   "cell_type": "code",
   "execution_count": null,
   "id": "1787c285",
   "metadata": {},
   "outputs": [],
   "source": [
    "#newrecord\n",
    "userD.new_record()"
   ]
  }
 ],
 "metadata": {
  "kernelspec": {
   "display_name": "Python 3",
   "language": "python",
   "name": "python3"
  },
  "language_info": {
   "codemirror_mode": {
    "name": "ipython",
    "version": 3
   },
   "file_extension": ".py",
   "mimetype": "text/x-python",
   "name": "python",
   "nbconvert_exporter": "python",
   "pygments_lexer": "ipython3",
   "version": "3.8.8"
  }
 },
 "nbformat": 4,
 "nbformat_minor": 5
}
